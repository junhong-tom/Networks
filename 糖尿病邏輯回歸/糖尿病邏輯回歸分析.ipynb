{
 "cells": [
  {
   "cell_type": "code",
   "execution_count": 1,
   "id": "1356acc9",
   "metadata": {},
   "outputs": [],
   "source": [
    "# 數據處理  Pima Indians Diabetes Database  資料集\n",
    "# 資料來源 ( Kaggle ) https://www.kaggle.com/saurabh00007/diabetescsv\n",
    "# 儲存在本地相對目錄:  './DataSet/Diabetes/diabetes.csv'\n",
    "\n",
    "# 讀取資料 \n",
    "FileName = r'./DataSet/Diabetes/diabetes.csv'"
   ]
  },
  {
   "cell_type": "code",
   "execution_count": 2,
   "id": "fb6c0ecf",
   "metadata": {},
   "outputs": [
    {
     "name": "stdout",
     "output_type": "stream",
     "text": [
      "檢視資料:\n",
      "    Pregnancies  Glucose  BloodPressure  SkinThickness  Insulin   BMI  \\\n",
      "0            6      148             72             35        0  33.6   \n",
      "1            1       85             66             29        0  26.6   \n",
      "2            8      183             64              0        0  23.3   \n",
      "\n",
      "   DiabetesPedigreeFunction  Age  Outcome  \n",
      "0                     0.627   50        1  \n",
      "1                     0.351   31        0  \n",
      "2                     0.672   32        1   \n",
      "\n",
      "簡易敘述統計:\n",
      "        Pregnancies     Glucose  BloodPressure  SkinThickness     Insulin  \\\n",
      "count   768.000000  768.000000     768.000000     768.000000  768.000000   \n",
      "mean      3.845052  120.894531      69.105469      20.536458   79.799479   \n",
      "std       3.369578   31.972618      19.355807      15.952218  115.244002   \n",
      "min       0.000000    0.000000       0.000000       0.000000    0.000000   \n",
      "25%       1.000000   99.000000      62.000000       0.000000    0.000000   \n",
      "50%       3.000000  117.000000      72.000000      23.000000   30.500000   \n",
      "75%       6.000000  140.250000      80.000000      32.000000  127.250000   \n",
      "max      17.000000  199.000000     122.000000      99.000000  846.000000   \n",
      "\n",
      "              BMI  DiabetesPedigreeFunction         Age     Outcome  \n",
      "count  768.000000                768.000000  768.000000  768.000000  \n",
      "mean    31.992578                  0.471876   33.240885    0.348958  \n",
      "std      7.884160                  0.331329   11.760232    0.476951  \n",
      "min      0.000000                  0.078000   21.000000    0.000000  \n",
      "25%     27.300000                  0.243750   24.000000    0.000000  \n",
      "50%     32.000000                  0.372500   29.000000    0.000000  \n",
      "75%     36.600000                  0.626250   41.000000    1.000000  \n",
      "max     67.100000                  2.420000   81.000000    1.000000   \n",
      "\n",
      "檢查闕漏值:\n",
      " Pregnancies                 768\n",
      "Glucose                     768\n",
      "BloodPressure               768\n",
      "SkinThickness               768\n",
      "Insulin                     768\n",
      "BMI                         768\n",
      "DiabetesPedigreeFunction    768\n",
      "Age                         768\n",
      "Outcome                     768\n",
      "dtype: int64 \n",
      "\n",
      "資料欄位名稱:\n",
      " Index(['Pregnancies', 'Glucose', 'BloodPressure', 'SkinThickness', 'Insulin',\n",
      "       'BMI', 'DiabetesPedigreeFunction', 'Age', 'Outcome'],\n",
      "      dtype='object') \n",
      "\n"
     ]
    }
   ],
   "source": [
    "# pandas 讀取 CSV 檔\n",
    "# read_csv 函數\n",
    "\n",
    "import pandas as pd\n",
    "\n",
    "df = pd.read_csv(FileName)\n",
    "print('檢視資料:\\n',df.head(n=3),'\\n')\n",
    "\n",
    "# 習慣偏好使用\n",
    "print('簡易敘述統計:\\n',df.describe(),'\\n')\n",
    "\n",
    "print('檢查闕漏值:\\n',df.isnull().count(axis=0),'\\n')\n",
    "# 在這裡失敗: 分析原因:遺漏缺失值以數字 0 來表示\n",
    "\n",
    "\n",
    "print('資料欄位名稱:\\n',df.columns,'\\n')\n",
    "# 參考資料: https://zhuanlan.zhihu.com/p/90912671\n",
    "\n",
    "# glucose、blood_pressure、skin_thick、insulin、BMI 最小数据不应为0，可理解这些数据列没有数据录入，存在数据缺失。处理思路：\n",
    "# 1.将这些列的0值转换成NaN值；\n",
    "# 2.根据outcome的结果计算出各列的平均值；\n",
    "# 3.使用平均值填充缺失值。\n",
    "#   数据类型都为数值类型。"
   ]
  },
  {
   "cell_type": "code",
   "execution_count": 3,
   "id": "2163062e",
   "metadata": {},
   "outputs": [],
   "source": [
    "df2 = df.copy()\n",
    "import matplotlib.pyplot as plt"
   ]
  },
  {
   "cell_type": "code",
   "execution_count": 4,
   "id": "ec377843",
   "metadata": {},
   "outputs": [
    {
     "data": {
      "image/png": "[encoded data removed]",
      "text/plain": [
       "<Figure size 432x288 with 1 Axes>"
      ]
     },
     "metadata": {
      "needs_background": "light"
     },
     "output_type": "display_data"
    },
    {
     "data": {
      "image/png": "[encoded data removed]",
      "text/plain": [
       "<Figure size 432x288 with 1 Axes>"
      ]
     },
     "metadata": {
      "needs_background": "light"
     },
     "output_type": "display_data"
    },
    {
     "data": {
      "image/png": "[encoded data removed]",
      "text/plain": [
       "<Figure size 432x288 with 1 Axes>"
      ]
     },
     "metadata": {
      "needs_background": "light"
     },
     "output_type": "display_data"
    }
   ],
   "source": [
    "plt.figure();\n",
    "df2['BMI'].plot(kind = 'hist')\n",
    "plt.figure();\n",
    "df2['BMI'].plot(kind = 'hist')\n",
    "\n",
    "plt.figure();\n",
    "df2['BMI'].plot.hist(stacked=True, bins=20,alpha=0.5);\n",
    "(10+df['BMI']).plot.hist(stacked=False, bins=20,alpha=0.5);\n"
   ]
  },
  {
   "cell_type": "code",
   "execution_count": 5,
   "id": "b521dd88",
   "metadata": {},
   "outputs": [
    {
     "name": "stdout",
     "output_type": "stream",
     "text": [
      "     Pregnancies  Glucose  BloodPressure  SkinThickness  Insulin  BMI  \\\n",
      "9              8      125             96              0        0  0.0   \n",
      "49             7      105              0              0        0  0.0   \n",
      "60             2       84              0              0        0  0.0   \n",
      "81             2       74              0              0        0  0.0   \n",
      "145            0      102             75             23        0  0.0   \n",
      "\n",
      "     DiabetesPedigreeFunction  Age  Outcome  \n",
      "9                       0.232   54        1  \n",
      "49                      0.305   24        0  \n",
      "60                      0.304   21        0  \n",
      "81                      0.102   22        0  \n",
      "145                     0.572   21        0  \n"
     ]
    },
    {
     "data": {
      "text/plain": [
       "<AxesSubplot:ylabel='Frequency'>"
      ]
     },
     "execution_count": 5,
     "metadata": {},
     "output_type": "execute_result"
    },
    {
     "data": {
      "image/png": "[encoded data removed]",
      "text/plain": [
       "<Figure size 432x288 with 1 Axes>"
      ]
     },
     "metadata": {
      "needs_background": "light"
     },
     "output_type": "display_data"
    },
    {
     "data": {
      "image/png": "[encoded data removed]",
      "text/plain": [
       "<Figure size 432x288 with 1 Axes>"
      ]
     },
     "metadata": {
      "needs_background": "light"
     },
     "output_type": "display_data"
    }
   ],
   "source": [
    "plt.figure();\n",
    "df['BMI'].plot(kind = 'hist')\n",
    "# 假定平均值數值填值\n",
    "print(df[df['BMI'] == 0].head())\n",
    "plt.figure();\n",
    "df.loc[df['BMI'] == 0,['BMI']] = df['BMI'].mean()\n",
    "\n",
    "df['BMI'].plot(kind = 'hist')"
   ]
  },
  {
   "cell_type": "code",
   "execution_count": null,
   "id": "ff6e86c8",
   "metadata": {},
   "outputs": [],
   "source": []
  },
  {
   "cell_type": "code",
   "execution_count": 6,
   "id": "dc8957c3",
   "metadata": {},
   "outputs": [
    {
     "name": "stdout",
     "output_type": "stream",
     "text": [
      "   Pregnancies  Glucose  BloodPressure  SkinThickness  Insulin   BMI  \\\n",
      "0            6      148             72             35        0  33.6   \n",
      "1            1       85             66             29        0  26.6   \n",
      "2            8      183             64              0        0  23.3   \n",
      "5            5      116             74              0        0  25.6   \n",
      "7           10      115              0              0        0  35.3   \n",
      "\n",
      "   DiabetesPedigreeFunction  Age  Outcome  \n",
      "0                     0.627   50        1  \n",
      "1                     0.351   31        0  \n",
      "2                     0.672   32        1  \n",
      "5                     0.201   30        0  \n",
      "7                     0.134   29        0  \n"
     ]
    },
    {
     "data": {
      "text/plain": [
       "<AxesSubplot:ylabel='Frequency'>"
      ]
     },
     "execution_count": 6,
     "metadata": {},
     "output_type": "execute_result"
    },
    {
     "data": {
      "image/png": "[encoded data removed]",
      "text/plain": [
       "<Figure size 432x288 with 1 Axes>"
      ]
     },
     "metadata": {
      "needs_background": "light"
     },
     "output_type": "display_data"
    },
    {
     "data": {
      "image/png": "[encoded data removed]",
      "text/plain": [
       "<Figure size 432x288 with 1 Axes>"
      ]
     },
     "metadata": {
      "needs_background": "light"
     },
     "output_type": "display_data"
    }
   ],
   "source": [
    "plt.figure();\n",
    "df['Insulin'].plot(kind = 'hist')\n",
    "# 假定平均值數值填值\n",
    "print(df[df['Insulin'] == 0].head())\n",
    "df.loc[df['Insulin'] == 0,['Insulin']] = df['Insulin'].mean()\n",
    "plt.figure();\n",
    "df['Insulin'].plot(kind = 'hist')"
   ]
  },
  {
   "cell_type": "code",
   "execution_count": 7,
   "id": "a5211421",
   "metadata": {},
   "outputs": [
    {
     "name": "stdout",
     "output_type": "stream",
     "text": [
      "    Pregnancies  Glucose  BloodPressure  SkinThickness    Insulin        BMI  \\\n",
      "2             8      183             64              0  79.799479  23.300000   \n",
      "5             5      116             74              0  79.799479  25.600000   \n",
      "7            10      115              0              0  79.799479  35.300000   \n",
      "9             8      125             96              0  79.799479  31.992578   \n",
      "10            4      110             92              0  79.799479  37.600000   \n",
      "\n",
      "    DiabetesPedigreeFunction  Age  Outcome  \n",
      "2                      0.672   32        1  \n",
      "5                      0.201   30        0  \n",
      "7                      0.134   29        0  \n",
      "9                      0.232   54        1  \n",
      "10                     0.191   30        0  \n"
     ]
    },
    {
     "data": {
      "text/plain": [
       "<AxesSubplot:ylabel='Frequency'>"
      ]
     },
     "execution_count": 7,
     "metadata": {},
     "output_type": "execute_result"
    },
    {
     "data": {
      "image/png": "[encoded data removed]",
      "text/plain": [
       "<Figure size 432x288 with 1 Axes>"
      ]
     },
     "metadata": {
      "needs_background": "light"
     },
     "output_type": "display_data"
    },
    {
     "data": {
      "image/png": "[encoded data removed]",
      "text/plain": [
       "<Figure size 432x288 with 1 Axes>"
      ]
     },
     "metadata": {
      "needs_background": "light"
     },
     "output_type": "display_data"
    }
   ],
   "source": [
    "plt.figure();\n",
    "df['SkinThickness'].plot(kind = 'hist')\n",
    "# 假定平均值數值填值\n",
    "print(df[df['SkinThickness'] == 0.0].head())\n",
    "df.loc[df['SkinThickness'] == 0.0,['SkinThickness']] = df['SkinThickness'].mean()\n",
    "plt.figure();\n",
    "df['SkinThickness'].plot(kind = 'hist')"
   ]
  },
  {
   "cell_type": "code",
   "execution_count": 8,
   "id": "d510637d",
   "metadata": {},
   "outputs": [
    {
     "name": "stdout",
     "output_type": "stream",
     "text": [
      "    Pregnancies  Glucose  BloodPressure  SkinThickness    Insulin        BMI  \\\n",
      "7            10      115              0      20.536458  79.799479  35.300000   \n",
      "15            7      100              0      20.536458  79.799479  30.000000   \n",
      "49            7      105              0      20.536458  79.799479  31.992578   \n",
      "60            2       84              0      20.536458  79.799479  31.992578   \n",
      "78            0      131              0      20.536458  79.799479  43.200000   \n",
      "\n",
      "    DiabetesPedigreeFunction  Age  Outcome  \n",
      "7                      0.134   29        0  \n",
      "15                     0.484   32        1  \n",
      "49                     0.305   24        0  \n",
      "60                     0.304   21        0  \n",
      "78                     0.270   26        1  \n"
     ]
    },
    {
     "data": {
      "text/plain": [
       "<AxesSubplot:ylabel='Frequency'>"
      ]
     },
     "execution_count": 8,
     "metadata": {},
     "output_type": "execute_result"
    },
    {
     "data": {
      "image/png": "[encoded data removed]",
      "text/plain": [
       "<Figure size 432x288 with 1 Axes>"
      ]
     },
     "metadata": {
      "needs_background": "light"
     },
     "output_type": "display_data"
    },
    {
     "data": {
      "image/png": "[encoded data removed]",
      "text/plain": [
       "<Figure size 432x288 with 1 Axes>"
      ]
     },
     "metadata": {
      "needs_background": "light"
     },
     "output_type": "display_data"
    }
   ],
   "source": [
    "plt.figure();\n",
    "df['BloodPressure'].plot(kind = 'hist')\n",
    "# 假定平均值數值填值\n",
    "print(df[df['BloodPressure'] == 0.0].head())\n",
    "df.loc[df['BloodPressure'] == 0.0,['BloodPressure']] = df['BloodPressure'].mean()\n",
    "plt.figure();\n",
    "df['BloodPressure'].plot(kind = 'hist')"
   ]
  },
  {
   "cell_type": "code",
   "execution_count": 9,
   "id": "74ef5461",
   "metadata": {},
   "outputs": [
    {
     "name": "stdout",
     "output_type": "stream",
     "text": [
      "     Pregnancies  Glucose  BloodPressure  SkinThickness    Insulin   BMI  \\\n",
      "75             1        0           48.0           20.0  79.799479  24.7   \n",
      "182            1        0           74.0           20.0  23.000000  27.7   \n",
      "342            1        0           68.0           35.0  79.799479  32.0   \n",
      "349            5        0           80.0           32.0  79.799479  41.0   \n",
      "502            6        0           68.0           41.0  79.799479  39.0   \n",
      "\n",
      "     DiabetesPedigreeFunction  Age  Outcome  \n",
      "75                      0.140   22        0  \n",
      "182                     0.299   21        0  \n",
      "342                     0.389   22        0  \n",
      "349                     0.346   37        1  \n",
      "502                     0.727   41        1  \n"
     ]
    },
    {
     "data": {
      "text/plain": [
       "<AxesSubplot:ylabel='Frequency'>"
      ]
     },
     "execution_count": 9,
     "metadata": {},
     "output_type": "execute_result"
    },
    {
     "data": {
      "image/png": "[encoded data removed]",
      "text/plain": [
       "<Figure size 432x288 with 1 Axes>"
      ]
     },
     "metadata": {
      "needs_background": "light"
     },
     "output_type": "display_data"
    },
    {
     "data": {
      "image/png": "[encoded data removed]",
      "text/plain": [
       "<Figure size 432x288 with 1 Axes>"
      ]
     },
     "metadata": {
      "needs_background": "light"
     },
     "output_type": "display_data"
    }
   ],
   "source": [
    "plt.figure();\n",
    "df['Glucose'].plot(kind = 'hist')\n",
    "# 假定平均值數值填值\n",
    "print(df[df['Glucose'] == 0.0].head())\n",
    "df.loc[df['Glucose'] == 0.0,['Glucose']] = df['Glucose'].mean()\n",
    "plt.figure();\n",
    "df['Glucose'].plot(kind = 'hist')"
   ]
  },
  {
   "cell_type": "code",
   "execution_count": 10,
   "id": "bdb5d8f9",
   "metadata": {},
   "outputs": [
    {
     "name": "stdout",
     "output_type": "stream",
     "text": [
      "簡易敘述統計:\n",
      "        Pregnancies     Glucose  BloodPressure  SkinThickness     Insulin  \\\n",
      "count   768.000000  768.000000     768.000000     768.000000  768.000000   \n",
      "mean      3.845052  121.681605      72.254807      26.606479  118.660163   \n",
      "std       3.369578   30.436016      12.115932       9.631241   93.080358   \n",
      "min       0.000000   44.000000      24.000000       7.000000   14.000000   \n",
      "25%       1.000000   99.750000      64.000000      20.536458   79.799479   \n",
      "50%       3.000000  117.000000      72.000000      23.000000   79.799479   \n",
      "75%       6.000000  140.250000      80.000000      32.000000  127.250000   \n",
      "max      17.000000  199.000000     122.000000      99.000000  846.000000   \n",
      "\n",
      "              BMI  DiabetesPedigreeFunction         Age     Outcome  \n",
      "count  768.000000                768.000000  768.000000  768.000000  \n",
      "mean    32.450805                  0.471876   33.240885    0.348958  \n",
      "std      6.875374                  0.331329   11.760232    0.476951  \n",
      "min     18.200000                  0.078000   21.000000    0.000000  \n",
      "25%     27.500000                  0.243750   24.000000    0.000000  \n",
      "50%     32.000000                  0.372500   29.000000    0.000000  \n",
      "75%     36.600000                  0.626250   41.000000    1.000000  \n",
      "max     67.100000                  2.420000   81.000000    1.000000   \n",
      "\n"
     ]
    }
   ],
   "source": [
    "print('簡易敘述統計:\\n',df.describe(),'\\n')"
   ]
  },
  {
   "cell_type": "code",
   "execution_count": 11,
   "id": "e017a0c4",
   "metadata": {},
   "outputs": [],
   "source": [
    "import tensorflow as tf\n",
    "from tensorflow.keras import Model\n",
    "from tensorflow.keras.layers import Input, Dense\n"
   ]
  },
  {
   "cell_type": "code",
   "execution_count": 12,
   "id": "036525b0",
   "metadata": {},
   "outputs": [
    {
     "name": "stdout",
     "output_type": "stream",
     "text": [
      "Model: \"model\"\n",
      "_________________________________________________________________\n",
      "Layer (type)                 Output Shape              Param #   \n",
      "=================================================================\n",
      "Logistic (InputLayer)        [(None, 8)]               0         \n",
      "_________________________________________________________________\n",
      "dense (Dense)                (None, 1)                 9         \n",
      "=================================================================\n",
      "Total params: 9\n",
      "Trainable params: 9\n",
      "Non-trainable params: 0\n",
      "_________________________________________________________________\n"
     ]
    }
   ],
   "source": [
    "input_layer = Input((8,),name='Logistic')\n",
    "out_layer = Dense(1,activation='sigmoid')(input_layer)\n",
    "\n",
    "LogModel = Model(input_layer,out_layer)\n",
    "LogModel.summary()"
   ]
  },
  {
   "cell_type": "code",
   "execution_count": 13,
   "id": "356193aa",
   "metadata": {},
   "outputs": [
    {
     "data": {
      "text/html": [
       "<div>\n",
       "<style scoped>\n",
       "    .dataframe tbody tr th:only-of-type {\n",
       "        vertical-align: middle;\n",
       "    }\n",
       "\n",
       "    .dataframe tbody tr th {\n",
       "        vertical-align: top;\n",
       "    }\n",
       "\n",
       "    .dataframe thead th {\n",
       "        text-align: right;\n",
       "    }\n",
       "</style>\n",
       "<table border=\"1\" class=\"dataframe\">\n",
       "  <thead>\n",
       "    <tr style=\"text-align: right;\">\n",
       "      <th></th>\n",
       "      <th>Pregnancies</th>\n",
       "      <th>Glucose</th>\n",
       "      <th>BloodPressure</th>\n",
       "      <th>SkinThickness</th>\n",
       "      <th>Insulin</th>\n",
       "      <th>BMI</th>\n",
       "      <th>DiabetesPedigreeFunction</th>\n",
       "      <th>Age</th>\n",
       "    </tr>\n",
       "  </thead>\n",
       "  <tbody>\n",
       "    <tr>\n",
       "      <th>0</th>\n",
       "      <td>6</td>\n",
       "      <td>148.0</td>\n",
       "      <td>72.0</td>\n",
       "      <td>35.000000</td>\n",
       "      <td>79.799479</td>\n",
       "      <td>33.6</td>\n",
       "      <td>0.627</td>\n",
       "      <td>50</td>\n",
       "    </tr>\n",
       "    <tr>\n",
       "      <th>1</th>\n",
       "      <td>1</td>\n",
       "      <td>85.0</td>\n",
       "      <td>66.0</td>\n",
       "      <td>29.000000</td>\n",
       "      <td>79.799479</td>\n",
       "      <td>26.6</td>\n",
       "      <td>0.351</td>\n",
       "      <td>31</td>\n",
       "    </tr>\n",
       "    <tr>\n",
       "      <th>2</th>\n",
       "      <td>8</td>\n",
       "      <td>183.0</td>\n",
       "      <td>64.0</td>\n",
       "      <td>20.536458</td>\n",
       "      <td>79.799479</td>\n",
       "      <td>23.3</td>\n",
       "      <td>0.672</td>\n",
       "      <td>32</td>\n",
       "    </tr>\n",
       "    <tr>\n",
       "      <th>3</th>\n",
       "      <td>1</td>\n",
       "      <td>89.0</td>\n",
       "      <td>66.0</td>\n",
       "      <td>23.000000</td>\n",
       "      <td>94.000000</td>\n",
       "      <td>28.1</td>\n",
       "      <td>0.167</td>\n",
       "      <td>21</td>\n",
       "    </tr>\n",
       "    <tr>\n",
       "      <th>4</th>\n",
       "      <td>0</td>\n",
       "      <td>137.0</td>\n",
       "      <td>40.0</td>\n",
       "      <td>35.000000</td>\n",
       "      <td>168.000000</td>\n",
       "      <td>43.1</td>\n",
       "      <td>2.288</td>\n",
       "      <td>33</td>\n",
       "    </tr>\n",
       "  </tbody>\n",
       "</table>\n",
       "</div>"
      ],
      "text/plain": [
       "   Pregnancies  Glucose  BloodPressure  SkinThickness     Insulin   BMI  \\\n",
       "0            6    148.0           72.0      35.000000   79.799479  33.6   \n",
       "1            1     85.0           66.0      29.000000   79.799479  26.6   \n",
       "2            8    183.0           64.0      20.536458   79.799479  23.3   \n",
       "3            1     89.0           66.0      23.000000   94.000000  28.1   \n",
       "4            0    137.0           40.0      35.000000  168.000000  43.1   \n",
       "\n",
       "   DiabetesPedigreeFunction  Age  \n",
       "0                     0.627   50  \n",
       "1                     0.351   31  \n",
       "2                     0.672   32  \n",
       "3                     0.167   21  \n",
       "4                     2.288   33  "
      ]
     },
     "execution_count": 13,
     "metadata": {},
     "output_type": "execute_result"
    }
   ],
   "source": [
    "y = df['Outcome']\n",
    "x = df.drop(['Outcome'],axis=1)\n",
    "zscore_x = x.copy()\n",
    "zscore_x.head()"
   ]
  },
  {
   "cell_type": "code",
   "execution_count": 14,
   "id": "dfd3299a",
   "metadata": {},
   "outputs": [],
   "source": [
    "def NormalizedColumn(Data,ColumnName):\n",
    "    Data[ColumnName].plot(kind = 'hist')\n",
    "    # 標準化\n",
    "    Data[ColumnName] = (Data[ColumnName] - Data[ColumnName].mean()) / Data[ColumnName].std()\n",
    "    Data[ColumnName].plot(kind = 'hist')"
   ]
  },
  {
   "cell_type": "code",
   "execution_count": 15,
   "id": "67813b27",
   "metadata": {},
   "outputs": [
    {
     "data": {
      "image/png": "[encoded data removed]",
      "text/plain": [
       "<Figure size 432x288 with 1 Axes>"
      ]
     },
     "metadata": {
      "needs_background": "light"
     },
     "output_type": "display_data"
    }
   ],
   "source": [
    "NormalizedColumn(zscore_x,'Pregnancies')   "
   ]
  },
  {
   "cell_type": "code",
   "execution_count": 16,
   "id": "96e430ec",
   "metadata": {},
   "outputs": [
    {
     "data": {
      "image/png": "[encoded data removed]",
      "text/plain": [
       "<Figure size 432x288 with 1 Axes>"
      ]
     },
     "metadata": {
      "needs_background": "light"
     },
     "output_type": "display_data"
    }
   ],
   "source": [
    "NormalizedColumn(zscore_x,'Glucose')"
   ]
  },
  {
   "cell_type": "code",
   "execution_count": 17,
   "id": "2f756dd3",
   "metadata": {},
   "outputs": [
    {
     "data": {
      "image/png": "[encoded data removed]",
      "text/plain": [
       "<Figure size 432x288 with 1 Axes>"
      ]
     },
     "metadata": {
      "needs_background": "light"
     },
     "output_type": "display_data"
    }
   ],
   "source": [
    "NormalizedColumn(zscore_x,'SkinThickness')    "
   ]
  },
  {
   "cell_type": "code",
   "execution_count": 18,
   "id": "4f70efd0",
   "metadata": {},
   "outputs": [
    {
     "data": {
      "image/png": "[encoded data removed]",
      "text/plain": [
       "<Figure size 432x288 with 1 Axes>"
      ]
     },
     "metadata": {
      "needs_background": "light"
     },
     "output_type": "display_data"
    }
   ],
   "source": [
    "NormalizedColumn(zscore_x,'Insulin')"
   ]
  },
  {
   "cell_type": "code",
   "execution_count": 19,
   "id": "3418d4ab",
   "metadata": {},
   "outputs": [
    {
     "data": {
      "image/png": "[encoded data removed]",
      "text/plain": [
       "<Figure size 432x288 with 1 Axes>"
      ]
     },
     "metadata": {
      "needs_background": "light"
     },
     "output_type": "display_data"
    }
   ],
   "source": [
    "NormalizedColumn(zscore_x,'BMI')    "
   ]
  },
  {
   "cell_type": "code",
   "execution_count": 20,
   "id": "845e2b51",
   "metadata": {},
   "outputs": [
    {
     "data": {
      "image/png": "[encoded data removed]",
      "text/plain": [
       "<Figure size 432x288 with 1 Axes>"
      ]
     },
     "metadata": {
      "needs_background": "light"
     },
     "output_type": "display_data"
    }
   ],
   "source": [
    "NormalizedColumn(zscore_x,'DiabetesPedigreeFunction')"
   ]
  },
  {
   "cell_type": "code",
   "execution_count": 21,
   "id": "00f8cb91",
   "metadata": {},
   "outputs": [
    {
     "data": {
      "image/png": "[encoded data removed]",
      "text/plain": [
       "<Figure size 432x288 with 1 Axes>"
      ]
     },
     "metadata": {
      "needs_background": "light"
     },
     "output_type": "display_data"
    }
   ],
   "source": [
    "NormalizedColumn(zscore_x,'BloodPressure')\n"
   ]
  },
  {
   "cell_type": "code",
   "execution_count": 22,
   "id": "e15ef33b",
   "metadata": {},
   "outputs": [
    {
     "data": {
      "image/png": "[encoded data removed]",
      "text/plain": [
       "<Figure size 432x288 with 1 Axes>"
      ]
     },
     "metadata": {
      "needs_background": "light"
     },
     "output_type": "display_data"
    }
   ],
   "source": [
    "NormalizedColumn(zscore_x,'Age')"
   ]
  },
  {
   "cell_type": "code",
   "execution_count": 23,
   "id": "05170342",
   "metadata": {},
   "outputs": [
    {
     "name": "stdout",
     "output_type": "stream",
     "text": [
      "   Pregnancies   Glucose  BloodPressure  SkinThickness   Insulin       BMI  \\\n",
      "0     0.639530  0.864712      -0.021031       0.871489 -0.417496  0.167147   \n",
      "1    -0.844335 -1.205204      -0.516246       0.248516 -0.417496 -0.850980   \n",
      "2     1.233077  2.014666      -0.681318      -0.630243 -0.417496 -1.330954   \n",
      "3    -0.844335 -1.073781      -0.516246      -0.374456 -0.264934 -0.632810   \n",
      "4    -1.141108  0.503298      -2.662181       0.871489  0.530078  1.548890   \n",
      "\n",
      "   DiabetesPedigreeFunction       Age  \n",
      "0                  0.468187  1.425067  \n",
      "1                 -0.364823 -0.190548  \n",
      "2                  0.604004 -0.105515  \n",
      "3                 -0.920163 -1.040871  \n",
      "4                  5.481337 -0.020483  \n",
      "==============================================\n",
      "   Pregnancies  Glucose  BloodPressure  SkinThickness     Insulin   BMI  \\\n",
      "0            6    148.0           72.0      35.000000   79.799479  33.6   \n",
      "1            1     85.0           66.0      29.000000   79.799479  26.6   \n",
      "2            8    183.0           64.0      20.536458   79.799479  23.3   \n",
      "3            1     89.0           66.0      23.000000   94.000000  28.1   \n",
      "4            0    137.0           40.0      35.000000  168.000000  43.1   \n",
      "\n",
      "   DiabetesPedigreeFunction  Age  \n",
      "0                     0.627   50  \n",
      "1                     0.351   31  \n",
      "2                     0.672   32  \n",
      "3                     0.167   21  \n",
      "4                     2.288   33  \n"
     ]
    }
   ],
   "source": [
    "print(zscore_x.head())\n",
    "print('==============================================')\n",
    "print(x.head())"
   ]
  },
  {
   "cell_type": "code",
   "execution_count": 24,
   "id": "fdeda7d4",
   "metadata": {},
   "outputs": [
    {
     "name": "stdout",
     "output_type": "stream",
     "text": [
      "(614, 8)\n",
      "(154, 8)\n",
      "(614,)\n",
      "(154,)\n"
     ]
    }
   ],
   "source": [
    "# 拆分訓練資料集 及 驗證資料\n",
    "# import numpy as np\n",
    "# zscore_x.shape[0]\n",
    "\n",
    "# testing_index = np.random.randint(zscore_x.shape[0],size=3)\n",
    "# print(testing_index)\n",
    "# zscore_x.loc[testing_index]\n",
    "\n",
    "from sklearn.model_selection import train_test_split\n",
    "train_x,test_x,train_y,test_y= train_test_split(zscore_x,y,train_size=0.8)\n",
    "\n",
    "print(train_x.shape)\n",
    "print(test_x.shape)\n",
    "\n",
    "print(train_y.shape)\n",
    "print(test_y.shape)\n"
   ]
  },
  {
   "cell_type": "code",
   "execution_count": 25,
   "id": "ca62c8a2",
   "metadata": {},
   "outputs": [
    {
     "data": {
      "text/plain": [
       "<tensorflow.python.keras.callbacks.History at 0x1bdb863a7b8>"
      ]
     },
     "execution_count": 25,
     "metadata": {},
     "output_type": "execute_result"
    }
   ],
   "source": [
    "# 訓練網路\n",
    "#zscore_x\n",
    "LogModel.compile(optimizer='SGD',loss='binary_crossentropy',metrics=['acc'])\n",
    "#LogModel.compile(optimizer='SGD',loss='mse',metrics=['binary_accuracy'])\n",
    "history = LogModel.fit(train_x,train_y, validation_split=0.2, batch_size=100,epochs=100,verbose=0)\n",
    "history"
   ]
  },
  {
   "cell_type": "code",
   "execution_count": 26,
   "id": "207d4c41",
   "metadata": {},
   "outputs": [
    {
     "data": {
      "text/plain": [
       "dict_keys(['loss', 'acc', 'val_loss', 'val_acc'])"
      ]
     },
     "execution_count": 26,
     "metadata": {},
     "output_type": "execute_result"
    }
   ],
   "source": [
    "history.history.keys()"
   ]
  },
  {
   "cell_type": "code",
   "execution_count": 27,
   "id": "2f417ec7",
   "metadata": {},
   "outputs": [
    {
     "name": "stdout",
     "output_type": "stream",
     "text": [
      "dict_keys(['loss', 'acc', 'val_loss', 'val_acc'])\n"
     ]
    },
    {
     "data": {
      "image/png": "[encoded data removed]",
      "text/plain": [
       "<Figure size 432x288 with 1 Axes>"
      ]
     },
     "metadata": {
      "needs_background": "light"
     },
     "output_type": "display_data"
    },
    {
     "data": {
      "image/png": "[encoded data removed]",
      "text/plain": [
       "<Figure size 432x288 with 1 Axes>"
      ]
     },
     "metadata": {
      "needs_background": "light"
     },
     "output_type": "display_data"
    }
   ],
   "source": [
    "\n",
    "print(history.history.keys())\n",
    "# summarize history for accuracy\n",
    "plt.plot(history.history['acc'])\n",
    "plt.plot(history.history['val_acc'])\n",
    "plt.title('model accuracy')\n",
    "plt.ylabel('accuracy')\n",
    "plt.xlabel('epoch')\n",
    "plt.show()\n",
    "# plt.legend(['train', 'test'], loc='upper left') plt.show()\n",
    "# summarize history for loss \n",
    "plt.plot(history.history['loss']) \n",
    "plt.plot(history.history['val_loss']) \n",
    "plt.title('model loss')\n",
    "plt.ylabel('loss')\n",
    "plt.xlabel('epoch')\n",
    "plt.show()\n",
    "# plt.legend(['train', 'test'], loc='upper left') plt.show()"
   ]
  },
  {
   "cell_type": "code",
   "execution_count": 28,
   "id": "6021a545",
   "metadata": {},
   "outputs": [
    {
     "name": "stdout",
     "output_type": "stream",
     "text": [
      "[0, 0, 0, 0, 1]\n",
      "157    0\n",
      "142    0\n",
      "423    0\n",
      "429    1\n",
      "61     1\n",
      "Name: Outcome, dtype: int64\n"
     ]
    }
   ],
   "source": [
    "print([1 if i else 0  for i in LogModel.predict(test_x)[0:5]>0.5] )\n",
    "print(test_y[0:5])"
   ]
  },
  {
   "cell_type": "code",
   "execution_count": 29,
   "id": "7da47e92",
   "metadata": {},
   "outputs": [
    {
     "name": "stdout",
     "output_type": "stream",
     "text": [
      "5/5 [==============================] - 0s 3ms/step - loss: 0.5348 - acc: 0.7143\n",
      "0.7142857313156128\n"
     ]
    }
   ],
   "source": [
    "loss, acc = LogModel.evaluate(test_x,test_y) \n",
    "print(acc)"
   ]
  },
  {
   "cell_type": "code",
   "execution_count": 34,
   "id": "869d1ca2",
   "metadata": {},
   "outputs": [],
   "source": [
    "import pickle\n",
    "import gzip\n",
    "import joblib"
   ]
  },
  {
   "cell_type": "code",
   "execution_count": 42,
   "id": "8c9245bd",
   "metadata": {},
   "outputs": [],
   "source": [
    "LogModel.save('LogModel.h5')\n",
    "    "
   ]
  },
  {
   "cell_type": "code",
   "execution_count": 32,
   "id": "d91e7c46",
   "metadata": {},
   "outputs": [
    {
     "ename": "TypeError",
     "evalue": "can't pickle weakref objects",
     "output_type": "error",
     "traceback": [
      "\u001b[1;31m---------------------------------------------------------------------------\u001b[0m",
      "\u001b[1;31mTypeError\u001b[0m                                 Traceback (most recent call last)",
      "\u001b[1;32m<ipython-input-32-3808b19d06af>\u001b[0m in \u001b[0;36m<module>\u001b[1;34m\u001b[0m\n\u001b[0;32m      1\u001b[0m \u001b[1;32mwith\u001b[0m \u001b[0mgzip\u001b[0m\u001b[1;33m.\u001b[0m\u001b[0mGzipFile\u001b[0m\u001b[1;33m(\u001b[0m\u001b[1;34m'./LogModel.pgz'\u001b[0m\u001b[1;33m,\u001b[0m\u001b[1;34m'w'\u001b[0m\u001b[1;33m)\u001b[0m \u001b[1;32mas\u001b[0m \u001b[0mf\u001b[0m\u001b[1;33m:\u001b[0m\u001b[1;33m\u001b[0m\u001b[1;33m\u001b[0m\u001b[0m\n\u001b[1;32m----> 2\u001b[1;33m     \u001b[0mpickle\u001b[0m\u001b[1;33m.\u001b[0m\u001b[0mdump\u001b[0m\u001b[1;33m(\u001b[0m\u001b[0mLogModel\u001b[0m\u001b[1;33m,\u001b[0m\u001b[0mf\u001b[0m\u001b[1;33m)\u001b[0m\u001b[1;33m\u001b[0m\u001b[1;33m\u001b[0m\u001b[0m\n\u001b[0m",
      "\u001b[1;31mTypeError\u001b[0m: can't pickle weakref objects"
     ]
    }
   ],
   "source": [
    "with gzip.GzipFile('./LogModel.pgz','w') as f:\n",
    "    pickle.dump(LogModel,f)"
   ]
  },
  {
   "cell_type": "code",
   "execution_count": null,
   "id": "8f8d1ba2",
   "metadata": {},
   "outputs": [],
   "source": []
  }
 ],
 "metadata": {
  "kernelspec": {
   "display_name": "Python 3",
   "language": "python",
   "name": "python3"
  },
  "language_info": {
   "codemirror_mode": {
    "name": "ipython",
    "version": 3
   },
   "file_extension": ".py",
   "mimetype": "text/x-python",
   "name": "python",
   "nbconvert_exporter": "python",
   "pygments_lexer": "ipython3",
   "version": "3.6.8"
  }
 },
 "nbformat": 4,
 "nbformat_minor": 5
}
